{
 "cells": [
  {
   "cell_type": "markdown",
   "id": "49249506",
   "metadata": {},
   "source": [
    "# Harmony Regridding Service\n",
    "\n",
    "### Contact:\n",
    "\n",
    "* **Slack:** #harmony_service_providers\n",
    "* **Jira:** [SDPS Data Services](https://bugs.earthdata.nasa.gov/secure/RapidBoard.jspa?rapidView=757&view=planning.nodetail)\n",
    "\n",
    "## What is the Harmony Regridding Service?\n",
    "\n",
    "The Harmony Regridding Services is a [Harmony](https://harmony.earthdata.nasa.gov) backend service that transforms the data within a specified input granule to a single geographic grid. The initial version of this service is only compatible with geographic source and target grids. The transformed output is returned to the user in the form of a standard Harmony STAC object, which contains links to the output granule in an AWS S3 bucket.\n",
    "\n",
    "The Harmony Regridding Service leverages the `sds-varinfo` Python package (see: [here](https://git.earthdata.nasa.gov/projects/SITC/repos/sds-varinfo/browse)) to map variable dependencies and group variables by horizontal spatial dimensions. `pyresample` (see [here](https://pyresample.readthedocs.io/en/latest/)) is used to perform the resampling in a horizontal spatial plane.\n",
    "\n",
    "\n",
    "## Capabilities\n",
    "\n",
    "* Transforming a granule with data in one or more geographic grids to another, single target geographic grid.\n",
    "* Can handle N-dimensional input variables (e.g., those with only horizontal spatial dimesions, or also those with temporal and/or vertical spatial dimensions, etc).\n",
    "* Preservation of file variable hierarchy.\n",
    "* NetCDF-4 output.\n",
    "\n",
    "\n",
    "## Data requirements\n",
    "\n",
    "* L3 or L4 data, on one or more geographic grid(s).\n",
    "* NetCDF-4 file format.\n",
    "* A UMM-S record associated with the UMM-C record(s) for applicable collection(s).\n",
    "\n",
    "## How the Harmony Regridding Service processes a request\n",
    "\n",
    "* The Harmony Regridding Service receives a Harmony message, including `scaleExtent` and either `scaleSize` or `height` and `width`.\n",
    "* The service validates that sufficient information exists to define the target grid, and that the grid is self-consistent (e.g., `scaleSize.x = (scaleExtent.x.max - scaleExtent.x.min) / width`).\n",
    "* A `pyresample` [AreaDefinition](https://pyresample.readthedocs.io/en/latest/geo_def.html#areadefinition) is created for the horizontal spatial dimensions of the target grid.\n",
    "* The service identifies all combinations of horizontal spatial dimensions used for gridded dimensions. A `pyresample` [DaskEWAResampler](https://pyresample.readthedocs.io/en/latest/swath.html#resampler) is created for each pair of horizontal spatial dimensions.\n",
    "* The weights from the input grids to the target grid are calculated for each `DaskEWAResampler`, using the Elliptical Weighted Averaging methodology. (For non-elliptical grids, the ellipses are circular)\n",
    "* The weights for each `DaskEWAResampler` object are applied to each applicable variable, and the output variables are written to an output file. This output file will also contain new 1-D dimension variables, describing the horizontal spatial dimensions of the target grid, along with the target CRS.\n",
    "\n",
    "## Examples\n",
    "\n",
    "The following examples use `harmony-py` (see: [here](https://github.com/nasa/harmony-py)) to make requests to Harmony. `harmony-py` is distributed via the Python Package Index (PyPI), and can be installed to your current Python environment via Pip:\n",
    "\n",
    "```bash\n",
    "$ pip install harmony-py\n",
    "```\n",
    "\n",
    "Other Python requirements are listed in `docs/pip_requirements.txt`. It is recommended to install all required packages via the following commands:\n",
    "\n",
    "```bash\n",
    "$ conda create --name regridder-demo python=3.11 --channel conda-forge --channel defaults -y\n",
    "$ conda activate regridder-demo\n",
    "$ pip install -r pip_requirements.txt\n",
    "```\n",
    "\n",
    "### Sample collection\n",
    "\n",
    "The requests below process data from the MERRA-2 hourly time-averaged collection ([M2T1NXSLV](https://cmr.earthdata.nasa.gov/search/concepts/C1276812863-GES_DISC.html)), containing air temperature, wind components, pressure and precipitation related variables.\n",
    "\n",
    "The figure below shows the input data, with a single time slice for the specific humidity at 850 hPa. The input grid has a longitudinal resolution of 0.625 degrees east, and a latitudinal resolution of 0.5 degrees north.\n",
    "\n",
    "![](M2T1NXSLV_2021-06-01_specific_humidity_input.png)\n",
    "\n",
    "### Initial setup\n",
    "\n",
    "The following cell imports required packages and establishes a Harmony client to make requests to the UAT environment of Harmony."
   ]
  },
  {
   "cell_type": "code",
   "execution_count": null,
   "id": "f7088f1f",
   "metadata": {},
   "outputs": [],
   "source": [
    "from harmony import Client, Collection, Environment, Request\n",
    "import hvplot.xarray\n",
    "import hvplot.pandas\n",
    "import matplotlib.pyplot as plt\n",
    "import panel.widgets as pnw\n",
    "import xarray as xr\n",
    "\n",
    "\n",
    "harmony_client = Client(env=Environment.UAT)\n",
    "\n",
    "# Collection short name can also be used in place of the concept ID to define a `harmony.Collection` object:\n",
    "merra_collection = Collection(id='C1245662776-EEDTEST')\n",
    "merra_granules = ['G1245662789-EEDTEST', 'G1245662790-EEDTEST']\n",
    "\n",
    "demo_directory = '.'"
   ]
  },
  {
   "cell_type": "markdown",
   "id": "a4c58de5",
   "metadata": {},
   "source": [
    "## Regridding via the `grid` parameter:\n",
    "\n",
    "The `grid` parameter to the Harmony API is used to identify a [UMM-Grid object](https://github.com/nasa/Common-Metadata-Repository/tree/master/schemas/resources/schemas/grid) in CMR. Harmony will extract information from the grid object with a matching name and translate the information to standard Harmony message parameters:\n",
    "\n",
    "* `scaleSize`\n",
    "* `scaleExtent`\n",
    "* `height` and `width`\n",
    "* `crs`\n",
    "\n",
    "The request below will use a grid object that is geographic with whole-Earth coverage. Each grid cell has a horizontal spatial resolution of 1 degree in both the longitudinal and latitudinal directions.\n",
    "\n",
    "The output will be downloaded locally, and the file name will have a `_regridded` suffix, which is part of the standard Harmony syntax to indicate the transformation that has been performed on the input granule."
   ]
  },
  {
   "cell_type": "code",
   "execution_count": null,
   "id": "144a410c",
   "metadata": {},
   "outputs": [],
   "source": [
    "grid_request = Request(\n",
    "    collection=merra_collection, granule_id=merra_granules[0], grid='GEOS1x1test'\n",
    ")\n",
    "\n",
    "grid_job_id = harmony_client.submit(grid_request)\n",
    "harmony_client.wait_for_processing(grid_job_id, show_progress=True)\n",
    "\n",
    "downloaded_grid_output = [\n",
    "    file_future.result()\n",
    "    for file_future in harmony_client.download_all(\n",
    "        grid_job_id, overwrite=True, directory=demo_directory\n",
    "    )\n",
    "]\n",
    "print(f'Downloaded: {\", \".join(downloaded_grid_output)}')"
   ]
  },
  {
   "cell_type": "markdown",
   "id": "19cbd081",
   "metadata": {},
   "source": [
    "### Plotting the output:\n",
    "\n",
    "The following two cells will firstly show the `xarray` data structure for this granule.\n",
    "\n",
    "The first cell shows the standard `xarray` tabular output for the granule. Some interesting things to notice are:\n",
    "\n",
    "* The listed dimensions at the top of the dataset show the number of pixels in each dimension. As each pixel has a resolution of 1 degree, a whole-Earth coverage will result in 360 longitude elements and 180 latitude elements.\n",
    "* The values for the longitude and latitude dimensions can be seen. Each cell is centred at a half degree, as expected.\n",
    "* The data variables include a CF-Convention compliant \"crs\" variable, containing metadata attributes for the grid.\n",
    "* All other data variables use the new time, lat and lon variables, and so are mapped to the target grid.\n",
    "\n",
    "The second cell shows the specific humidity at 850 hPa variable, as shown in the image of the input. The `hvplot` interactive widget can used to automatically iterate through all time slices, showing how the specific humidity changed throughout the day."
   ]
  },
  {
   "cell_type": "code",
   "execution_count": null,
   "id": "fbab2034",
   "metadata": {},
   "outputs": [],
   "source": [
    "ds_grid = xr.open_dataset(downloaded_grid_output[0])\n",
    "ds_grid"
   ]
  },
  {
   "cell_type": "code",
   "execution_count": null,
   "id": "82156930",
   "metadata": {},
   "outputs": [],
   "source": [
    "player_grid = pnw.Player(\n",
    "    name='time', start=0, end=23, loop_policy='once', interval=200, width=900\n",
    ")\n",
    "\n",
    "ax = (\n",
    "    ds_grid.Q850.interactive(loc='bottom', width=900, height=600)\n",
    "    .isel(time=player_grid)\n",
    "    .plot(\n",
    "        cmap=plt.cm.turbo,\n",
    "        vmin=0.0,\n",
    "        vmax=0.02,\n",
    "        cbar_kwargs={'format': '{x:.3}', 'fraction': 0.0235},\n",
    "        xlim=[-180, 180],\n",
    "        ylim=[-90, 90],\n",
    "    )\n",
    ")\n",
    "ax.axes.set_aspect('equal')"
   ]
  },
  {
   "cell_type": "code",
   "execution_count": null,
   "id": "e710b314",
   "metadata": {},
   "outputs": [],
   "source": [
    "ds_grid.close()"
   ]
  },
  {
   "cell_type": "markdown",
   "id": "e3c9d3cb",
   "metadata": {},
   "source": [
    "## Regridding with explicit grid definitions:\n",
    "\n",
    "The same parameters that Harmony extracts from a UMM-Grid object can be explicitly defined in a Harmony request to achieve the same output. However, if a UMM-Grid object exists, that is the simpler and preferred method to call the service. An end-user can use this alternative method to specify a custom grid if a corresponding UMM-Grid object does not exist.\n",
    "\n",
    "The request below defines the same grid as before, but uses a different granule to avoid naming conflicts in downloaded output:"
   ]
  },
  {
   "cell_type": "code",
   "execution_count": null,
   "id": "241114e0",
   "metadata": {},
   "outputs": [],
   "source": [
    "detailed_request = Request(\n",
    "    collection=merra_collection,\n",
    "    granule_id=merra_granules[1],\n",
    "    scale_size=(1.0, 1.0),\n",
    "    scale_extent=(-180, -90, 180, 90),\n",
    "    crs='EPSG:4326',\n",
    "    height=180,\n",
    "    width=360,\n",
    ")\n",
    "\n",
    "detailed_job_id = harmony_client.submit(detailed_request)\n",
    "harmony_client.wait_for_processing(detailed_job_id, show_progress=True)\n",
    "\n",
    "downloaded_detailed_output = [\n",
    "    file_future.result()\n",
    "    for file_future in harmony_client.download_all(\n",
    "        detailed_job_id, overwrite=True, directory=demo_directory\n",
    "    )\n",
    "]\n",
    "print(f'Downloaded: {\", \".join(downloaded_detailed_output)}')"
   ]
  },
  {
   "cell_type": "markdown",
   "id": "679f0bd3",
   "metadata": {},
   "source": [
    "### Detailed request output:\n",
    "\n",
    "The information below will show that the output, as specified by the `scaleExtent`, `scaleSize`, `height`, `width` and `crs`, has the same characteristic as the request specifying the UMM-Grid object: a whole-Earth grid with 1 degree horizontal spatial resolution."
   ]
  },
  {
   "cell_type": "code",
   "execution_count": null,
   "id": "3a2a3098",
   "metadata": {},
   "outputs": [],
   "source": [
    "ds_detailed = xr.open_dataset(downloaded_detailed_output[0])\n",
    "ds_detailed"
   ]
  },
  {
   "cell_type": "code",
   "execution_count": null,
   "id": "55749699",
   "metadata": {},
   "outputs": [],
   "source": [
    "ds_detailed.close()"
   ]
  }
 ],
 "metadata": {
  "kernelspec": {
   "display_name": "Python 3 (ipykernel)",
   "language": "python",
   "name": "python3"
  },
  "language_info": {
   "codemirror_mode": {
    "name": "ipython",
    "version": 3
   },
   "file_extension": ".py",
   "mimetype": "text/x-python",
   "name": "python",
   "nbconvert_exporter": "python",
   "pygments_lexer": "ipython3",
   "version": "3.11.9"
  }
 },
 "nbformat": 4,
 "nbformat_minor": 5
}
